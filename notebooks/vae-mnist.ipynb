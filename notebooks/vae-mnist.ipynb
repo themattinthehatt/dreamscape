{
 "cells": [
  {
   "cell_type": "markdown",
   "metadata": {
    "deletable": true,
    "editable": true
   },
   "source": [
    "# Setup"
   ]
  },
  {
   "cell_type": "code",
   "execution_count": null,
   "metadata": {
    "collapsed": false,
    "deletable": true,
    "editable": true
   },
   "outputs": [],
   "source": [
    "from __future__ import print_function\n",
    "from __future__ import division\n",
    "\n",
    "import numpy as np\n",
    "import time\n",
    "import matplotlib.pyplot as plt\n",
    "import tensorflow as tf\n",
    "\n",
    "import sys\n",
    "sys.path.append('..')\n",
    "import models.VAE as vae\n",
    "import models.CVAE as cvae\n",
    "import models.GAN as gan\n",
    "\n",
    "np.random.seed(0)"
   ]
  },
  {
   "cell_type": "code",
   "execution_count": null,
   "metadata": {
    "collapsed": false,
    "deletable": true,
    "editable": true
   },
   "outputs": [],
   "source": [
    "# load data\n",
    "import utils.DataReader as Data\n",
    "\n",
    "# get data handler\n",
    "data_type = 'mnist'\n",
    "data_dir = '/home/mattw/Dropbox/git/dreamscape/data/'\n",
    "\n",
    "if data_type is 'mnist':\n",
    "    data = Data.DataReaderMNIST(data_dir + 'mnist/', one_hot=True)\n",
    "elif data_type is 'cifar':\n",
    "    data = Data.DataReaderCIFAR(data_dir + 'cifar/', one_hot=True)      "
   ]
  },
  {
   "cell_type": "markdown",
   "metadata": {
    "deletable": true,
    "editable": true
   },
   "source": [
    "# Define and Train a Generative Model"
   ]
  },
  {
   "cell_type": "code",
   "execution_count": null,
   "metadata": {
    "collapsed": false,
    "deletable": true,
    "editable": true
   },
   "outputs": [],
   "source": [
    "saving = False\n",
    "save_dir = '/home/mattw/Dropbox/git/dreamscape/tmp/'\n",
    "net_type = 'gan' # 'vae' | 'cvae' | 'gan'\n",
    "\n",
    "# define training params\n",
    "batch_size = 128\n",
    "epochs = {\n",
    "    'training': 100,\n",
    "    'disp': 10,\n",
    "    'ckpt': None,\n",
    "    'summary': 10\n",
    "}\n",
    "use_gpu = 1\n",
    "\n",
    "# initialize network\n",
    "reload(gan)\n",
    "if net_type is 'vae':\n",
    "    layers_encoder = [784, 400, 400]\n",
    "    layer_latent = 20\n",
    "    layers_decoder = [400, 400, 784]\n",
    "    net = vae.VAE(\n",
    "        layers_encoder=layers_encoder, \n",
    "        layer_latent=layer_latent,\n",
    "        layers_decoder=layers_decoder,\n",
    "        learning_rate=1e-3)\n",
    "elif net_type is 'cvae':\n",
    "    layers_encoder = [784, 400, 400]\n",
    "    layer_latent = 20\n",
    "    layers_decoder = [400, 400, 784]\n",
    "    num_classes = 10\n",
    "    net = cvae.CVAE(\n",
    "        layers_encoder=layers_encoder, \n",
    "        layer_latent=layer_latent,\n",
    "        layers_decoder=layers_decoder,\n",
    "        num_classes=num_classes,\n",
    "        learning_rate=1e-3)\n",
    "elif net_type is 'gan':\n",
    "    layers_generator = [100, 400, 784]\n",
    "    layers_discriminator = [784, 400, 100, 1]\n",
    "    net = gan.GAN(\n",
    "        layers_gen=layers_generator, \n",
    "        layers_disc=layers_discriminator,\n",
    "        learning_rate=1e-4)\n",
    "else:\n",
    "    raise Error('Invalid net_type')\n",
    "\n",
    "# start the tensorflow session\n",
    "config = tf.ConfigProto(device_count = {'GPU': use_gpu})\n",
    "sess = tf.Session(config=config, graph=net.graph)\n",
    "sess.run(net.init)\n",
    "\n",
    "# train network\n",
    "time_start = time.time()\n",
    "net.train(\n",
    "    sess, \n",
    "    data=data,\n",
    "    batch_size=batch_size,\n",
    "    epochs_training=epochs['training'],\n",
    "    epochs_disp=epochs['disp'],\n",
    "    epochs_ckpt=epochs['ckpt'],\n",
    "    epochs_summary=epochs['summary'],\n",
    "    output_dir=save_dir)\n",
    "time_end = time.time()\n",
    "print('time_elapsed: %g' % (time_end - time_start))\n",
    "\n",
    "# save network\n",
    "if saving:\n",
    "    net.save_model(sess, save_dir)\n",
    "\n",
    "# close the tensorflow session\n",
    "# sess.close()"
   ]
  },
  {
   "cell_type": "code",
   "execution_count": null,
   "metadata": {
    "collapsed": true
   },
   "outputs": [],
   "source": [
    "sess.close()"
   ]
  },
  {
   "cell_type": "markdown",
   "metadata": {
    "deletable": true,
    "editable": true
   },
   "source": [
    "# Visualize Model"
   ]
  },
  {
   "cell_type": "markdown",
   "metadata": {
    "deletable": true,
    "editable": true
   },
   "source": [
    "### Generated Samples Visualization (all models)"
   ]
  },
  {
   "cell_type": "code",
   "execution_count": null,
   "metadata": {
    "collapsed": false
   },
   "outputs": [],
   "source": [
    "num_cols = 5\n",
    "num_rows = 3\n",
    "f, ax = plt.subplots(num_rows, num_cols)\n",
    "for i in range(num_rows):\n",
    "    for j in range(num_cols):\n",
    "        gen = net.generate(sess)\n",
    "        ax[i,j].imshow(\n",
    "            np.reshape(gen, (28, 28)),\n",
    "            interpolation=\"nearest\",\n",
    "            cmap=\"gray\")\n",
    "        ax[i,j].axes.get_xaxis().set_visible(False)\n",
    "        ax[i,j].axes.get_yaxis().set_visible(False)\n",
    "plt.show()"
   ]
  },
  {
   "cell_type": "markdown",
   "metadata": {
    "deletable": true,
    "editable": true
   },
   "source": [
    "### Reconstruction Visualization (autoencoders only)"
   ]
  },
  {
   "cell_type": "code",
   "execution_count": null,
   "metadata": {
    "collapsed": false,
    "deletable": true,
    "editable": true
   },
   "outputs": [],
   "source": [
    "x = data.train.next_batch(net.batch_size)\n",
    "eps = np.zeros((net.batch_size, net.num_lvs))\n",
    "recon = net.reconstruct(sess, x[0], eps)\n",
    "\n",
    "f, ax = plt.subplots(2,5)\n",
    "for j in range(5):\n",
    "    ax[0,j].imshow(np.reshape(x[0][j,:], (28, 28)),\n",
    "                  interpolation=\"nearest\",\n",
    "                  cmap=\"gray\")\n",
    "    ax[0,j].axes.get_xaxis().set_visible(False)\n",
    "    ax[0,j].axes.get_yaxis().set_visible(False)\n",
    "    \n",
    "    ax[1,j].imshow(np.reshape(recon[j,:], (28, 28)),\n",
    "                  interpolation=\"nearest\",\n",
    "                  cmap=\"gray\")\n",
    "    ax[1,j].axes.get_xaxis().set_visible(False)\n",
    "    ax[1,j].axes.get_yaxis().set_visible(False)\n",
    "\n",
    "plt.show()"
   ]
  },
  {
   "cell_type": "markdown",
   "metadata": {
    "deletable": true,
    "editable": true
   },
   "source": [
    "### Latent Space Visualization (all models)"
   ]
  },
  {
   "cell_type": "code",
   "execution_count": null,
   "metadata": {
    "collapsed": false,
    "deletable": true,
    "editable": true
   },
   "outputs": [],
   "source": [
    "\"\"\"Notes\n",
    "- only works for a model with latent space dimension of 2;\n",
    "- generally terrible results with GANs\n",
    "\"\"\"\n",
    "nx = ny = 20\n",
    "x_values = np.linspace(-3, 3, nx)\n",
    "y_values = np.linspace(-3, 3, ny)\n",
    "\n",
    "canvas = np.empty((28*ny, 28*nx))\n",
    "for i, yi in enumerate(x_values):\n",
    "    for j, xi in enumerate(y_values):\n",
    "        z_mean = np.array([[xi, yi]])\n",
    "        x_mean = net.generate(sess, z_mean=z_mean)\n",
    "        canvas[(nx-i-1)*28:(nx-i)*28, j*28:(j+1)*28] = x_mean[0].reshape(28, 28)\n",
    "\n",
    "plt.figure(figsize=(8, 10))        \n",
    "Xi, Yi = np.meshgrid(x_values, y_values)\n",
    "plt.imshow(canvas, origin=\"upper\",\n",
    "           interpolation=\"nearest\",\n",
    "           cmap=\"gray\")\n",
    "plt.tight_layout()\n",
    "plt.show()"
   ]
  },
  {
   "cell_type": "code",
   "execution_count": null,
   "metadata": {
    "collapsed": false,
    "deletable": true,
    "editable": true
   },
   "outputs": [],
   "source": [
    "%reload_ext watermark\n",
    "%watermark -a \"Matt Whiteway\" -d -v -m -p numpy,tensorflow"
   ]
  }
 ],
 "metadata": {
  "kernelspec": {
   "display_name": "Python 2",
   "language": "python",
   "name": "python2"
  },
  "language_info": {
   "codemirror_mode": {
    "name": "ipython",
    "version": 2
   },
   "file_extension": ".py",
   "mimetype": "text/x-python",
   "name": "python",
   "nbconvert_exporter": "python",
   "pygments_lexer": "ipython2",
   "version": "2.7.12"
  }
 },
 "nbformat": 4,
 "nbformat_minor": 0
}
