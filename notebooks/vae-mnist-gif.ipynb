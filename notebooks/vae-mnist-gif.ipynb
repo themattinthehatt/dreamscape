{
 "cells": [
  {
   "cell_type": "markdown",
   "metadata": {},
   "source": [
    "### Setup"
   ]
  },
  {
   "cell_type": "code",
   "execution_count": null,
   "metadata": {
    "collapsed": true
   },
   "outputs": [],
   "source": [
    "from __future__ import print_function\n",
    "\n",
    "import numpy as np\n",
    "import time\n",
    "import matplotlib.pyplot as plt\n",
    "import tensorflow as tf\n",
    "\n",
    "import sys\n",
    "sys.path.append('..')\n",
    "import models.VAE as vae\n",
    "\n",
    "import os\n",
    "from io import BytesIO\n",
    "import PIL.Image\n",
    "import scipy.misc\n",
    "import scipy.io\n",
    "from IPython.display import clear_output, Image, display\n",
    "\n",
    "np.random.seed(0)"
   ]
  },
  {
   "cell_type": "code",
   "execution_count": null,
   "metadata": {
    "collapsed": false
   },
   "outputs": [],
   "source": [
    "# load data\n",
    "import models.DataReader as Data\n",
    "\n",
    "# get data handler\n",
    "data_type = 'mnist'\n",
    "data_dir = '/home/mattw/Dropbox/git/dreamscape/data/'\n",
    "\n",
    "if data_type is 'mnist':\n",
    "    data = Data.DataReaderMNIST(data_dir + 'mnist/', one_hot=True)\n",
    "elif data_type is 'cifar':\n",
    "    data = Data.DataReaderCIFAR(data_dir + 'cifar/', one_hot=True)  "
   ]
  },
  {
   "cell_type": "markdown",
   "metadata": {},
   "source": [
    "### GIF animation of latent space during training"
   ]
  },
  {
   "cell_type": "code",
   "execution_count": null,
   "metadata": {
    "collapsed": false
   },
   "outputs": [],
   "source": [
    "reload(vae)\n",
    "\n",
    "# store processed images\n",
    "saving = True\n",
    "save_path = '/home/mattw/Desktop/test_movie'  \n",
    "\n",
    "# define model params\n",
    "layers_encoder = [784, 400, 400]\n",
    "layer_latent = 2\n",
    "layers_decoder = [400, 400, 784]\n",
    "\n",
    "# initialize model\n",
    "net = vae.VAE(\n",
    "    layers_encoder=layers_encoder, \n",
    "    layer_latent=layer_latent,\n",
    "    layers_decoder=layers_decoder)\n",
    "\n",
    "# define training params\n",
    "batch_size = 128\n",
    "use_gpu = 1\n",
    "iters_per_image = np.logspace(0, 3, num=50).astype(int)\n",
    "iters_disp = None\n",
    "iters_ckpt = None\n",
    "iters_summary = None\n",
    "\n",
    "# image details\n",
    "nx = ny = 20\n",
    "x_values = np.linspace(-3, 3, nx)\n",
    "y_values = np.linspace(-3, 3, ny)\n",
    "\n",
    "# start the tensorflow session\n",
    "config = tf.ConfigProto(device_count = {'GPU': use_gpu})\n",
    "sess = tf.Session(config=config, graph=net.graph)\n",
    "sess.run(net.init)\n",
    "\n",
    "for epoch, iters_training in enumerate(iters_per_image):\n",
    "    \n",
    "    # output updates\n",
    "    print('\\rEpoch %03g of %03g - training for %05g iters' % \n",
    "          (epoch + 1, iters_per_image.size, iters_per_image[epoch]), end='')\n",
    "    \n",
    "    # train model\n",
    "    net.train_iters(\n",
    "        sess, \n",
    "        data=data,\n",
    "        batch_size=batch_size,\n",
    "        iters_training=iters_training,\n",
    "        iters_disp=iters_disp)\n",
    "    \n",
    "    # create latent state representation\n",
    "    canvas = np.empty((28*ny, 28*nx))\n",
    "    for i, yi in enumerate(x_values):\n",
    "        for j, xi in enumerate(y_values):\n",
    "            z_mean = np.array([[xi, yi]])\n",
    "            x_mean = net.generate(sess, z_mean=z_mean)\n",
    "            canvas[(nx-i-1)*28:(nx-i)*28, j*28:(j+1)*28] = x_mean[0].reshape(28, 28)\n",
    "    \n",
    "    # save output\n",
    "    if saving:\n",
    "        file_name = str('vae-mnist_epoch_%03i.jpg' % epoch)\n",
    "        file_path = '/'.join([save_path, file_name])\n",
    "        canvas = np.uint8(255*canvas)\n",
    "        PIL.Image.fromarray(canvas).save(file_path, 'jpeg')\n",
    "        \n",
    "sess.close()"
   ]
  },
  {
   "cell_type": "markdown",
   "metadata": {},
   "source": [
    "### to create a gif:\n",
    "convert -delay 4x120 -loop 0 *.jpg animated.gif\n",
    "\n",
    "take all jpgs in current directory and turn them into a gif that loops indefinitely, with a framerate of 120/4 = 30 fps"
   ]
  },
  {
   "cell_type": "code",
   "execution_count": 1,
   "metadata": {
    "collapsed": false
   },
   "outputs": [
    {
     "name": "stdout",
     "output_type": "stream",
     "text": [
      "Matt Whiteway 2017-06-13 \n",
      "\n",
      "CPython 2.7.12\n",
      "IPython 5.3.0\n",
      "\n",
      "numpy 1.11.0\n",
      "tensorflow 1.0.1\n",
      "\n",
      "compiler   : GCC 5.4.0 20160609\n",
      "system     : Linux\n",
      "release    : 4.4.0-78-generic\n",
      "machine    : x86_64\n",
      "processor  : x86_64\n",
      "CPU cores  : 12\n",
      "interpreter: 64bit\n"
     ]
    }
   ],
   "source": [
    "%reload_ext watermark\n",
    "%watermark -a \"Matt Whiteway\" -d -v -m -p numpy,tensorflow"
   ]
  }
 ],
 "metadata": {
  "kernelspec": {
   "display_name": "Python 2",
   "language": "python",
   "name": "python2"
  },
  "language_info": {
   "codemirror_mode": {
    "name": "ipython",
    "version": 2
   },
   "file_extension": ".py",
   "mimetype": "text/x-python",
   "name": "python",
   "nbconvert_exporter": "python",
   "pygments_lexer": "ipython2",
   "version": "2.7.12"
  }
 },
 "nbformat": 4,
 "nbformat_minor": 2
}
